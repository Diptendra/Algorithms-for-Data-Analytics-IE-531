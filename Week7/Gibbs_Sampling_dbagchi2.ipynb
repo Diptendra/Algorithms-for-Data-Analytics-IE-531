{
 "cells": [
  {
   "cell_type": "code",
   "execution_count": 46,
   "metadata": {},
   "outputs": [],
   "source": [
    "#!/usr/bin/env python3\n",
    "# coding: utf-8\n",
    "\n",
    "# Gibbs-Sampling procedure to compute the Probability Matrix of a Discrete-Time Markov\n",
    "# Chain whose states are the d-dimensional cartesian product of the form \n",
    "# {0,1,...n-1} x {0,1,...n-1} x ... X {0,1,...n-1} (i.e. d-many products)\n",
    "# \n",
    "# The target stationary distribution is expressed over the n**d many states \n",
    "#\n",
    "# Written by Prof. R.S. Sreenivas for\n",
    "# IE531: Algorithms for Data Analytics\n",
    "#\n",
    "\n",
    "import sys\n",
    "import argparse\n",
    "import random\n",
    "import numpy as np \n",
    "import time\n",
    "import math\n",
    "import matplotlib.pyplot as plt\n",
    "import itertools as it\n"
   ]
  },
  {
   "cell_type": "code",
   "execution_count": 84,
   "metadata": {},
   "outputs": [
    {
     "name": "stdout",
     "output_type": "stream",
     "text": [
      "(Random) Target Stationary Distribution\n",
      " [0.34901442654895465, 0.09004969832438348, 0.03742685607669993, 0.5235090190499619]\n",
      "Generating the Probability Matrix using Gibbs-Sampling\n",
      "Target Stationary Distribution:\n",
      "π (0, 0)  = π( 0 ) =  0.34901442654895465\n",
      "π (0, 1)  = π( 1 ) =  0.09004969832438348\n",
      "π (1, 0)  = π( 2 ) =  0.03742685607669993\n",
      "π (1, 1)  = π( 3 ) =  0.5235090190499619\n",
      "Probability Matrix:\n",
      "[[0.8490 0.1025 0.0484 0.0000]\n",
      " [0.3975 0.1759 0.0000 0.4266]\n",
      " [0.4516 0.0000 0.0818 0.4666]\n",
      " [0.0000 0.0734 0.0334 0.8933]]\n",
      "Does the Probability Matrix have the desired Stationary Distribution? True\n"
     ]
    }
   ],
   "source": [
    "\n",
    "# need this to keep the matrix print statements to 4 decimal places\n",
    "np.set_printoptions(formatter={'float': lambda x: \"{0:0.4f}\".format(x)})\n",
    "\n",
    "# This function computes a random n-dimensional probability vector (whose entries sum to 1)\n",
    "def generate_a_random_probability_vector(n) :\n",
    "    random_darts = np.random.uniform(0, 1, n-1)\n",
    "    sort_random_darts = sorted(random_darts)\n",
    "    y = [sort_random_darts[i] if i == 0 else (sort_random_darts[i] - sort_random_darts[i-1]) for i in range(0, n-1)]\n",
    "    y.extend([1 - sort_random_darts[n-2]])\n",
    "    return y\n",
    "\n",
    "# Two d-tuples x and y are Gibbs-Neighbors if they are identical, or they differ in value at just\n",
    "# one coordinate\n",
    "def check_if_these_states_are_gibbs_neighbors(x, y) :\n",
    "    # x and y are dim-tuples -- we will assume they are not equal\n",
    "    # count the number of coordinates where they differ\n",
    "    gibbs_neighbours_difference = [0 if a == b else 1 for a, b in zip(x, y)]\n",
    "    if(sum(gibbs_neighbours_difference) == 1):\n",
    "        gibbs_neighbours = True\n",
    "    else:\n",
    "        gibbs_neighbours = False\n",
    "    \n",
    "    return gibbs_neighbours\n",
    "\n",
    "# Given two Gibbs-Neighbors -- that are not identical -- find the coordinate where they differ in value\n",
    "# this is the \"free-coordinate\" for this pair\n",
    "def free_coordinates_of_gibbs_neighbors(x, y) :\n",
    "    # we assume x and y are gibbs neighbors, then the must agree on at least (dim-1)-many coordinates\n",
    "    # or, they will disagree on just one of the (dim)-many coordinates... we have to figure out which \n",
    "    # coordinate/axes is free\n",
    "    free_index = [i for i, (a, b) in enumerate(zip(x, y)) if a != b]\n",
    "    return free_index[0]\n",
    "\n",
    "# x in a dim-tuple (i.e. if dim = 2, it is a 2-tuple; if dim = 4, it is a 4-tuple) state of the Gibbs MC\n",
    "# each of the dim-many variables in the dim-tuple take on values over range(n)... this function returns \n",
    "# the lexicographic_index (i.e. dictionary-index) of the state x\n",
    "def get_lexicographic_index(x, n, dim) :\n",
    "    all_possible_lexicographic_combo = list(it.product(range(n), repeat = dim))\n",
    "    number = all_possible_lexicographic_combo.index(x)\n",
    "    return number\n",
    "\n",
    "# This is an implementaton of the Gibbs-Sampling procedure\n",
    "# The MC has n**dim many states; the target stationary distribution is pi\n",
    "# The third_variable_is when set to True, prints the various items involved in the procedure\n",
    "# (not advisable to print for large MCs)\n",
    "def create_gibbs_MC(n, dim, pi, do_want_to_print) :\n",
    "    if (do_want_to_print) :\n",
    "        print (\"Generating the Probability Matrix using Gibbs-Sampling\")\n",
    "        print (\"Target Stationary Distribution:\")\n",
    "        for x in it.product(range(n), repeat = dim) :\n",
    "            number = get_lexicographic_index(x, n, dim)\n",
    "            print (\"\\u03C0\", x, \" = \\u03C0(\", number , \") = \", pi[number])\n",
    "    \n",
    "    # the probability matrix will be (n**dim) x (n**dim) \n",
    "    probability_matrix = [[0 for x in range(n**dim)] for y in range(n**dim)]\n",
    "    \n",
    "    # the state of the MC is a dim-tuple (i.e. if dim = 2, it is a 2-tuple; if dim = 4, it is a 4-tuple)\n",
    "    # got this from https://stackoverflow.com/questions/7186518/function-with-varying-number-of-for-loops-python\n",
    "    for x in it.product(range(n), repeat = dim) :\n",
    "        # x is a dim-tuple where each variable ranges over 0,1,...,n-1\n",
    "        row_sum = 0\n",
    "        for y in it.product(range(n), repeat = dim) :\n",
    "            \n",
    "            gibbs_neighbours = check_if_these_states_are_gibbs_neighbors(x, y)\n",
    "            if gibbs_neighbours == True:\n",
    "                denominator = 0\n",
    "                free_coordinates_index = free_coordinates_of_gibbs_neighbors(x, y)\n",
    "                for i in range(n):\n",
    "                    convert_tuple_to_list = list(y)\n",
    "                    convert_tuple_to_list[free_coordinates_index] = i\n",
    "                    denominator += pi[get_lexicographic_index(tuple(convert_tuple_to_list), n, dim)]\n",
    "                \n",
    "                stochastic_value = (pi[get_lexicographic_index(y, n, dim)] / (denominator * dim))\n",
    "                probability_matrix[get_lexicographic_index(x, n, dim)][get_lexicographic_index(y, n, dim)] = stochastic_value\n",
    "                row_sum += stochastic_value \n",
    "        probability_matrix[get_lexicographic_index(x, n, dim)][get_lexicographic_index(x, n, dim)] = (1 - row_sum)\n",
    "    return probability_matrix\n",
    "\n",
    "# Trial 1... States: {(0,0), (0,1), (1,0), (1,1)} (i.e. 4 states)\n",
    "n = 2\n",
    "dim = 2\n",
    "a = generate_a_random_probability_vector(n**dim)\n",
    "print(\"(Random) Target Stationary Distribution\\n\", a)\n",
    "p = create_gibbs_MC(n, dim, a, True) \n",
    "print (\"Probability Matrix:\")\n",
    "print (np.matrix(p))\n",
    "print (\"Does the Probability Matrix have the desired Stationary Distribution?\", np.allclose(np.matrix(a), np.matrix(a)* np.matrix(p)))\n",
    "\n"
   ]
  },
  {
   "cell_type": "code",
   "execution_count": 85,
   "metadata": {},
   "outputs": [
    {
     "name": "stdout",
     "output_type": "stream",
     "text": [
      "Does the Probability Matrix have the desired Stationary Distribution? True\n"
     ]
    }
   ],
   "source": [
    "# Trial 2... States{(0,0), (0,1),.. (0,9), (1,0), (1,1), ... (9.9)} (i.e. 100 states)\n",
    "n = 10\n",
    "dim = 2\n",
    "a = generate_a_random_probability_vector(n**dim)\n",
    "p = create_gibbs_MC(n, dim, a, False) \n",
    "print (\"Does the Probability Matrix have the desired Stationary Distribution?\", np.allclose(np.matrix(a), np.matrix(a)* np.matrix(p)))\n",
    "\n"
   ]
  },
  {
   "cell_type": "code",
   "execution_count": 86,
   "metadata": {},
   "outputs": [
    {
     "name": "stdout",
     "output_type": "stream",
     "text": [
      "It took  0.0 hours,  0.0 minutes,  22.744892120361328 seconds to finish this task\n",
      "Does the Probability Matrix have the desired Stationary Distribution? True\n"
     ]
    }
   ],
   "source": [
    "# Trial 3... 1000 states \n",
    "n = 10\n",
    "dim = 3\n",
    "t1 = time.time()\n",
    "a = generate_a_random_probability_vector(n**dim)\n",
    "p = create_gibbs_MC(n, dim, a, False) \n",
    "t2 = time.time()\n",
    "hours, rem = divmod(t2-t1, 3600)\n",
    "minutes, seconds = divmod(rem, 60)\n",
    "print (\"It took \", hours, \"hours, \", minutes, \"minutes, \", seconds, \"seconds to finish this task\")\n",
    "print (\"Does the Probability Matrix have the desired Stationary Distribution?\", np.allclose(np.matrix(a), np.matrix(a)* np.matrix(p)))"
   ]
  },
  {
   "cell_type": "code",
   "execution_count": 87,
   "metadata": {},
   "outputs": [
    {
     "name": "stdout",
     "output_type": "stream",
     "text": [
      "It took  2.0 hours,  44.0 minutes,  55.38531804084778 seconds to finish this task\n",
      "Does the Probability Matrix have the desired Stationary Distribution? True\n"
     ]
    }
   ],
   "source": [
    "# Trial 4... 10000 states \n",
    "n = 10\n",
    "dim = 4\n",
    "t1 = time.time()\n",
    "a = generate_a_random_probability_vector(n**dim)\n",
    "p = create_gibbs_MC(n, dim, a, False) \n",
    "t2 = time.time()\n",
    "hours, rem = divmod(t2-t1, 3600)\n",
    "minutes, seconds = divmod(rem, 60)\n",
    "print (\"It took \", hours, \"hours, \", minutes, \"minutes, \", seconds, \"seconds to finish this task\")\n",
    "print (\"Does the Probability Matrix have the desired Stationary Distribution?\", np.allclose(np.matrix(a), np.matrix(a)* np.matrix(p)))\n"
   ]
  },
  {
   "cell_type": "code",
   "execution_count": 5,
   "metadata": {},
   "outputs": [],
   "source": [
    "# This function computes a random n-dimensional probability vector (whose entries sum to 1)\n",
    "def generate_a_random_probability_vector(n) :\n",
    "    random_darts = np.random.uniform(0, 1, n-1)\n",
    "    y = [random_darts[i] - random_darts[i-1] for i in range(1, n-1)]\n",
    "    y.extend([1 - random_darts[n-1]])\n",
    "    #*WRITE THIS PART **\n",
    "    return y"
   ]
  },
  {
   "cell_type": "code",
   "execution_count": 4,
   "metadata": {},
   "outputs": [],
   "source": [
    "x = (0, 0, 0, 0)\n",
    "y = (0, 0, 0, 1)\n",
    "\n",
    "# x and y are dim-tuples -- we will assume they are not equal\n",
    "# count the number of coordinates where they differ\n",
    "gibbs_neighbours_difference = [0 if a == b else 1 for a, b in zip(x, y)]\n",
    "if(sum(gibbs_neighbours_difference) == 1):\n",
    "    gibbs_neighbours = True\n",
    "else:\n",
    "    gibbs_neighbours = False\n",
    "\n",
    "#return gibbs_neighbours\n"
   ]
  },
  {
   "cell_type": "code",
   "execution_count": 5,
   "metadata": {},
   "outputs": [
    {
     "data": {
      "text/plain": [
       "True"
      ]
     },
     "execution_count": 5,
     "metadata": {},
     "output_type": "execute_result"
    }
   ],
   "source": [
    "gibbs_neighbours"
   ]
  },
  {
   "cell_type": "code",
   "execution_count": 33,
   "metadata": {},
   "outputs": [
    {
     "name": "stdout",
     "output_type": "stream",
     "text": [
      "[0.93263478 0.5083562  0.87484274 0.79454532]\n",
      "[0.5083561988339086, 0.7945453184318008, 0.8748427391364527, 0.9326347837999245]\n",
      "[0.5083561988339086, 0.28618911959789217, 0.08029742070465196, 0.057792044663471764, 0.06736521620007552]\n"
     ]
    }
   ],
   "source": [
    "print(random_darts)\n",
    "print(sort_random_darts)\n",
    "print(y)"
   ]
  },
  {
   "cell_type": "code",
   "execution_count": 8,
   "metadata": {},
   "outputs": [
    {
     "data": {
      "text/plain": [
       "(0, 0, 0, 1)"
      ]
     },
     "execution_count": 8,
     "metadata": {},
     "output_type": "execute_result"
    }
   ],
   "source": [
    "y"
   ]
  },
  {
   "cell_type": "code",
   "execution_count": 17,
   "metadata": {},
   "outputs": [
    {
     "ename": "TypeError",
     "evalue": "int() argument must be a string, a bytes-like object or a number, not 'list'",
     "output_type": "error",
     "traceback": [
      "\u001b[0;31m---------------------------------------------------------------------------\u001b[0m",
      "\u001b[0;31mTypeError\u001b[0m                                 Traceback (most recent call last)",
      "\u001b[0;32m<ipython-input-17-4ad0f92ba431>\u001b[0m in \u001b[0;36m<module>\u001b[0;34m()\u001b[0m\n\u001b[0;32m----> 1\u001b[0;31m \u001b[0mfree_index\u001b[0m \u001b[0;34m=\u001b[0m \u001b[0mint\u001b[0m\u001b[0;34m(\u001b[0m\u001b[0;34m[\u001b[0m\u001b[0mi\u001b[0m \u001b[0;32mfor\u001b[0m \u001b[0mi\u001b[0m\u001b[0;34m,\u001b[0m \u001b[0;34m(\u001b[0m\u001b[0ma\u001b[0m\u001b[0;34m,\u001b[0m \u001b[0mb\u001b[0m\u001b[0;34m)\u001b[0m \u001b[0;32min\u001b[0m \u001b[0menumerate\u001b[0m\u001b[0;34m(\u001b[0m\u001b[0mzip\u001b[0m\u001b[0;34m(\u001b[0m\u001b[0mx\u001b[0m\u001b[0;34m,\u001b[0m \u001b[0my\u001b[0m\u001b[0;34m)\u001b[0m\u001b[0;34m)\u001b[0m \u001b[0;32mif\u001b[0m \u001b[0ma\u001b[0m \u001b[0;34m!=\u001b[0m \u001b[0mb\u001b[0m\u001b[0;34m]\u001b[0m\u001b[0;34m)\u001b[0m\u001b[0;34m\u001b[0m\u001b[0m\n\u001b[0m\u001b[1;32m      2\u001b[0m \u001b[0;34m(\u001b[0m\u001b[0mfree_index\u001b[0m\u001b[0;34m)\u001b[0m\u001b[0;34m\u001b[0m\u001b[0m\n",
      "\u001b[0;31mTypeError\u001b[0m: int() argument must be a string, a bytes-like object or a number, not 'list'"
     ]
    }
   ],
   "source": [
    "free_index = [i for i, (a, b) in enumerate(zip(x, y)) if a != b]\n",
    "(free_index)"
   ]
  },
  {
   "cell_type": "code",
   "execution_count": 18,
   "metadata": {},
   "outputs": [
    {
     "data": {
      "text/plain": [
       "list"
      ]
     },
     "execution_count": 18,
     "metadata": {},
     "output_type": "execute_result"
    }
   ],
   "source": [
    "type(y)"
   ]
  },
  {
   "cell_type": "code",
   "execution_count": 10,
   "metadata": {},
   "outputs": [
    {
     "name": "stdout",
     "output_type": "stream",
     "text": [
      "0 0 0\n",
      "1 0 0\n",
      "2 0 0\n",
      "3 0 1\n"
     ]
    }
   ],
   "source": [
    "for i, (a, b) in enumerate(zip(x, y)):\n",
    "    print (i, a, b)"
   ]
  },
  {
   "cell_type": "code",
   "execution_count": 39,
   "metadata": {},
   "outputs": [
    {
     "name": "stdout",
     "output_type": "stream",
     "text": [
      "(0, 0)\n",
      "(0, 1)\n",
      "(0, 2)\n",
      "(1, 0)\n",
      "(1, 1)\n",
      "(1, 2)\n",
      "(2, 0)\n",
      "(2, 1)\n",
      "(2, 2)\n"
     ]
    }
   ],
   "source": [
    "for x in it.product(range(3), repeat = 2):\n",
    "    print(x)"
   ]
  },
  {
   "cell_type": "code",
   "execution_count": 41,
   "metadata": {},
   "outputs": [
    {
     "name": "stdout",
     "output_type": "stream",
     "text": [
      "(0, 0)\n",
      "(0, 1)\n",
      "(0, 2)\n"
     ]
    }
   ],
   "source": [
    "for x in it.product(range(1a ), range(3)):\n",
    "    print(x)"
   ]
  },
  {
   "cell_type": "code",
   "execution_count": 37,
   "metadata": {},
   "outputs": [
    {
     "ename": "ValueError",
     "evalue": "(0, 1) is not in list",
     "output_type": "error",
     "traceback": [
      "\u001b[0;31m---------------------------------------------------------------------------\u001b[0m",
      "\u001b[0;31mValueError\u001b[0m                                Traceback (most recent call last)",
      "\u001b[0;32m<ipython-input-37-f18d2abbb22f>\u001b[0m in \u001b[0;36m<module>\u001b[0;34m()\u001b[0m\n\u001b[1;32m      3\u001b[0m \u001b[0mx\u001b[0m \u001b[0;34m=\u001b[0m \u001b[0;34m(\u001b[0m\u001b[0;36m0\u001b[0m\u001b[0;34m,\u001b[0m \u001b[0;36m1\u001b[0m\u001b[0;34m)\u001b[0m\u001b[0;34m\u001b[0m\u001b[0m\n\u001b[1;32m      4\u001b[0m \u001b[0ma\u001b[0m \u001b[0;34m=\u001b[0m \u001b[0mlist\u001b[0m\u001b[0;34m(\u001b[0m\u001b[0mit\u001b[0m\u001b[0;34m.\u001b[0m\u001b[0mproduct\u001b[0m\u001b[0;34m(\u001b[0m\u001b[0mrange\u001b[0m\u001b[0;34m(\u001b[0m\u001b[0mn\u001b[0m\u001b[0;34m)\u001b[0m\u001b[0;34m,\u001b[0m \u001b[0mrepeat\u001b[0m \u001b[0;34m=\u001b[0m \u001b[0mdim\u001b[0m\u001b[0;34m)\u001b[0m\u001b[0;34m)\u001b[0m\u001b[0;34m\u001b[0m\u001b[0m\n\u001b[0;32m----> 5\u001b[0;31m \u001b[0mb\u001b[0m \u001b[0;34m=\u001b[0m \u001b[0ma\u001b[0m\u001b[0;34m.\u001b[0m\u001b[0mindex\u001b[0m\u001b[0;34m(\u001b[0m\u001b[0mx\u001b[0m\u001b[0;34m)\u001b[0m\u001b[0;34m\u001b[0m\u001b[0m\n\u001b[0m\u001b[1;32m      6\u001b[0m \u001b[0mprint\u001b[0m\u001b[0;34m(\u001b[0m\u001b[0ma\u001b[0m\u001b[0;34m)\u001b[0m\u001b[0;34m\u001b[0m\u001b[0m\n\u001b[1;32m      7\u001b[0m \u001b[0mb\u001b[0m\u001b[0;34m\u001b[0m\u001b[0m\n",
      "\u001b[0;31mValueError\u001b[0m: (0, 1) is not in list"
     ]
    }
   ],
   "source": [
    "n = 3\n",
    "dim = 1\n",
    "x = (0, 1)\n",
    "a = list(it.product(range(n), repeat = dim))\n",
    "b = a.index(x)\n",
    "print(a)\n",
    "b\n"
   ]
  },
  {
   "cell_type": "code",
   "execution_count": 29,
   "metadata": {},
   "outputs": [],
   "source": [
    "n = 3\n",
    "dim = 2\n",
    "probability_matrix = [[0 for x in range(n**dim)] for y in range(n**dim)]"
   ]
  },
  {
   "cell_type": "code",
   "execution_count": 35,
   "metadata": {},
   "outputs": [
    {
     "data": {
      "text/plain": [
       "[[0, 0, 0, 0, 0, 0, 0, 0, 0],\n",
       " [0, 0, 0, 0, 0, 0, 0, 0, 0],\n",
       " [0, 0, 0, 0, 0, 0, 0, 0, 0],\n",
       " [0, 0, 0, 0, 0, 0, 0, 0, 0],\n",
       " [0, 0, 0, 0, 0, 0, 0, 0, 0],\n",
       " [0, 0, 0, 0, 0, 0, 0, 0, 0],\n",
       " [0, 0, 0, 0, 0, 0, 0, 0, 0],\n",
       " [0, 0, 0, 0, 0, 0, 0, 0, 0],\n",
       " [0, 0, 0, 0, 0, 0, 0, 0, 0]]"
      ]
     },
     "execution_count": 35,
     "metadata": {},
     "output_type": "execute_result"
    }
   ],
   "source": [
    "probability_matrix\n"
   ]
  },
  {
   "cell_type": "code",
   "execution_count": 45,
   "metadata": {},
   "outputs": [
    {
     "name": "stdout",
     "output_type": "stream",
     "text": [
      "(0, 1)\n",
      "(1, 1)\n",
      "(2, 1)\n"
     ]
    }
   ],
   "source": [
    "x = (0, 1)\n",
    "y = range(3)\n",
    "z = list(x)\n",
    "for i in range(3):\n",
    "    z[0] = i\n",
    "    print(tuple(z))\n"
   ]
  },
  {
   "cell_type": "code",
   "execution_count": 65,
   "metadata": {},
   "outputs": [
    {
     "name": "stdout",
     "output_type": "stream",
     "text": [
      "[0.2240543291693049, 0.012717993298108188, 0.4747383598412024, 0.28848931769138453]\n",
      "0.2367723224674131\n"
     ]
    }
   ],
   "source": [
    "n = 2\n",
    "dim = 2\n",
    "a = generate_a_random_probability_vector(n**dim)\n",
    "pi = a\n",
    "print(pi)\n",
    "print(pi[0]+pi[1])"
   ]
  },
  {
   "cell_type": "code",
   "execution_count": 66,
   "metadata": {},
   "outputs": [
    {
     "name": "stdout",
     "output_type": "stream",
     "text": [
      "π (0, 0)  = π( 0 ) =  0.2240543291693049\n",
      "π (0, 1)  = π( 1 ) =  0.012717993298108188\n",
      "π (1, 0)  = π( 2 ) =  0.4747383598412024\n",
      "π (1, 1)  = π( 3 ) =  0.28848931769138453\n"
     ]
    }
   ],
   "source": [
    "for x in it.product(range(n), repeat = dim) :\n",
    "    number = get_lexicographic_index(x, n, dim)\n",
    "    print (\"\\u03C0\", x, \" = \\u03C0(\", number , \") = \", pi[number])"
   ]
  },
  {
   "cell_type": "code",
   "execution_count": 67,
   "metadata": {},
   "outputs": [
    {
     "data": {
      "text/plain": [
       "[[0, 0, 0, 0], [0, 0, 0, 0], [0, 0, 0, 0], [0, 0, 0, 0]]"
      ]
     },
     "execution_count": 67,
     "metadata": {},
     "output_type": "execute_result"
    }
   ],
   "source": [
    "probability_matrix = [[0 for x in range(n**dim)] for y in range(n**dim)]\n",
    "probability_matrix"
   ]
  },
  {
   "cell_type": "code",
   "execution_count": 68,
   "metadata": {},
   "outputs": [
    {
     "data": {
      "text/plain": [
       "True"
      ]
     },
     "execution_count": 68,
     "metadata": {},
     "output_type": "execute_result"
    }
   ],
   "source": [
    "x = (0, 0)\n",
    "y = (0, 1)\n",
    "gibbs_neighbours = check_if_these_states_are_gibbs_neighbors(x, y)\n",
    "gibbs_neighbours\n"
   ]
  },
  {
   "cell_type": "code",
   "execution_count": 69,
   "metadata": {},
   "outputs": [
    {
     "name": "stdout",
     "output_type": "stream",
     "text": [
      "0.2367723224674131\n"
     ]
    }
   ],
   "source": [
    "denominator = 0\n",
    "free_coordinates_index = free_coordinates_of_gibbs_neighbors(x, y)\n",
    "for i in range(n):\n",
    "    convert_tuple_to_list = list(y)\n",
    "    convert_tuple_to_list[free_coordinates_index] = i\n",
    "    denominator += pi[get_lexicographic_index(tuple(convert_tuple_to_list), n, dim)]\n",
    "print(denominator)\n"
   ]
  },
  {
   "cell_type": "code",
   "execution_count": 70,
   "metadata": {},
   "outputs": [],
   "source": [
    "stochastic_value = (pi[get_lexicographic_index(y, n, dim)] / (denominator * dim))\n",
    "probability_matrix.append(stochastic_value)"
   ]
  },
  {
   "cell_type": "code",
   "execution_count": 74,
   "metadata": {},
   "outputs": [],
   "source": [
    "probability_matrix[get_lexicographic_index(x, n, dim)][get_lexicographic_index(x, n, dim)] = stochastic_value"
   ]
  },
  {
   "cell_type": "code",
   "execution_count": 73,
   "metadata": {},
   "outputs": [
    {
     "data": {
      "text/plain": [
       "0"
      ]
     },
     "execution_count": 73,
     "metadata": {},
     "output_type": "execute_result"
    }
   ],
   "source": [
    "get_lexicographic_index(x, n, dim)"
   ]
  },
  {
   "cell_type": "code",
   "execution_count": 75,
   "metadata": {},
   "outputs": [
    {
     "data": {
      "text/plain": [
       "[[0.026857010071053726, 0, 0, 0],\n",
       " [0, 0, 0, 0],\n",
       " [0, 0, 0, 0],\n",
       " [0, 0, 0, 0],\n",
       " 0.026857010071053726]"
      ]
     },
     "execution_count": 75,
     "metadata": {},
     "output_type": "execute_result"
    }
   ],
   "source": [
    "probability_matrix"
   ]
  },
  {
   "cell_type": "code",
   "execution_count": null,
   "metadata": {},
   "outputs": [],
   "source": []
  }
 ],
 "metadata": {
  "kernelspec": {
   "display_name": "Python 3",
   "language": "python",
   "name": "python3"
  },
  "language_info": {
   "codemirror_mode": {
    "name": "ipython",
    "version": 3
   },
   "file_extension": ".py",
   "mimetype": "text/x-python",
   "name": "python",
   "nbconvert_exporter": "python",
   "pygments_lexer": "ipython3",
   "version": "3.6.5"
  }
 },
 "nbformat": 4,
 "nbformat_minor": 2
}
